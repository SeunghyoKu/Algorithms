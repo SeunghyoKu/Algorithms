{
  "nbformat": 4,
  "nbformat_minor": 0,
  "metadata": {
    "colab": {
      "name": "assignment1.ipynb",
      "provenance": [],
      "collapsed_sections": [],
      "include_colab_link": true
    },
    "kernelspec": {
      "name": "python3",
      "display_name": "Python 3"
    }
  },
  "cells": [
    {
      "cell_type": "markdown",
      "metadata": {
        "id": "view-in-github",
        "colab_type": "text"
      },
      "source": [
        "<a href=\"https://colab.research.google.com/github/SeunghyoKu/Algorithms/blob/master/assignment1.ipynb\" target=\"_parent\"><img src=\"https://colab.research.google.com/assets/colab-badge.svg\" alt=\"Open In Colab\"/></a>"
      ]
    },
    {
      "cell_type": "markdown",
      "metadata": {
        "id": "W-ORnGHCPhM1",
        "colab_type": "text"
      },
      "source": [
        "---\n",
        "\n",
        "## Assignment #1\n"
      ]
    },
    {
      "cell_type": "markdown",
      "metadata": {
        "id": "VbQVdrrapfG_",
        "colab_type": "text"
      },
      "source": [
        "* Release date: 2019/09/23\n",
        "* Due date: **2019/09/30 00:00** (will not accept late submission)\n",
        "* Submittion format: notebook file which can be executed in Colab environment\n",
        "* Weighting: 5% (total 50 pts)"
      ]
    },
    {
      "cell_type": "markdown",
      "metadata": {
        "id": "QeVtMwumpcUu",
        "colab_type": "text"
      },
      "source": [
        "1. **(10pts)** Calculate `np.dot(x, rotation)` and explain how this calculation is performed.\n",
        "\n",
        "```python\n",
        "  import numpy as np\n",
        "\n",
        "  x = np.array([2, 0])\n",
        "  rotation = np.array([ [0, -1],\n",
        "                        [1,  0] ])\n",
        "```"
      ]
    },
    {
      "cell_type": "code",
      "metadata": {
        "id": "GRQW9YJ3X0VU",
        "colab_type": "code",
        "outputId": "b9526b49-442f-4dca-9f20-bf2b5d573576",
        "colab": {
          "base_uri": "https://localhost:8080/",
          "height": 35
        }
      },
      "source": [
        "import numpy as np\n",
        "\n",
        "x = np.array([2, 0])\n",
        "rotation = np.array([ [0, -1],\n",
        "                      [1,  0] ])\n",
        "np.dot(x, rotation)  "
      ],
      "execution_count": 0,
      "outputs": [
        {
          "output_type": "execute_result",
          "data": {
            "text/plain": [
              "array([ 0, -2])"
            ]
          },
          "metadata": {
            "tags": []
          },
          "execution_count": 10
        }
      ]
    },
    {
      "cell_type": "markdown",
      "metadata": {
        "id": "TTOHcefAJ9kU",
        "colab_type": "text"
      },
      "source": [
        "**Answer)** numpy.dot shows dot product of arrays. \n",
        "The result shows 1D array, [0, -2] that came from `[2*0+0*1, 2*-1+0*0].`\n",
        "\n",
        "---\n"
      ]
    },
    {
      "cell_type": "markdown",
      "metadata": {
        "id": "ARQKCA9sCpN-",
        "colab_type": "text"
      },
      "source": [
        "2. **(10pts)** Suppose we have the following 2D tensor (i.e., a matrix). How to rearrange its values into 1D tensor (i.e., a vector) in a column major order?\n",
        "```python\n",
        "x = np.array([[1,  2,  3,  4],\n",
        "                 [5,  6,  7,  8],\n",
        "                 [9, 10, 11, 12]])\n",
        "```"
      ]
    },
    {
      "cell_type": "code",
      "metadata": {
        "id": "714pQHmuaBBU",
        "colab_type": "code",
        "outputId": "9e791aa1-2040-4388-c7ac-1fb8c8969fa1",
        "colab": {
          "base_uri": "https://localhost:8080/",
          "height": 35
        }
      },
      "source": [
        "x = np.array([[1,  2,  3,  4],\n",
        "              [5,  6,  7,  8],\n",
        "              [9, 10, 11, 12]])\n",
        "\n",
        "np.ravel(x, order = \"F\")"
      ],
      "execution_count": 0,
      "outputs": [
        {
          "output_type": "execute_result",
          "data": {
            "text/plain": [
              "array([ 1,  5,  9,  2,  6, 10,  3,  7, 11,  4,  8, 12])"
            ]
          },
          "metadata": {
            "tags": []
          },
          "execution_count": 12
        }
      ]
    },
    {
      "cell_type": "markdown",
      "metadata": {
        "id": "ieE8fVebbsV4",
        "colab_type": "text"
      },
      "source": [
        "**Answer)** Because the problem asks that rearrange the 2D tensor to 1D tensor in a column major order, I used ravel function order by \"F\". It means that it follows Fortan method.\n",
        "\n",
        "---\n"
      ]
    },
    {
      "cell_type": "markdown",
      "metadata": {
        "id": "D0cUrs6OFJVn",
        "colab_type": "text"
      },
      "source": [
        "3. **(10pts)** Compute a transpose of the matrix `x` in Problem 2 by using only `np.reshape` function."
      ]
    },
    {
      "cell_type": "code",
      "metadata": {
        "id": "LVISFTYLcLbT",
        "colab_type": "code",
        "outputId": "a539f0fe-c9e1-4df6-9d8d-9d2df4f45356",
        "colab": {
          "base_uri": "https://localhost:8080/",
          "height": 89
        }
      },
      "source": [
        "reshaped_x = x.reshape(12, order = \"F\")\n",
        "reshaped_x.reshape(4,3)"
      ],
      "execution_count": 0,
      "outputs": [
        {
          "output_type": "execute_result",
          "data": {
            "text/plain": [
              "array([[ 1,  5,  9],\n",
              "       [ 2,  6, 10],\n",
              "       [ 3,  7, 11],\n",
              "       [ 4,  8, 12]])"
            ]
          },
          "metadata": {
            "tags": []
          },
          "execution_count": 58
        }
      ]
    },
    {
      "cell_type": "markdown",
      "metadata": {
        "id": "_0zNitveg0Pz",
        "colab_type": "text"
      },
      "source": [
        "**Answer)** I used reshape function twice. The transpose of the matrix means that columns and rows are changed. There is transpose function in Python numpy api, however there was a restriction of using only reshape function to make transpose of the matrix. After testing several times, I realized that using reshape function for one time, is not able to transpose the matrix. I found that, reshaping with number of elements makes it storing elements in the sequence of columns. So, after the revision, I tried it to change to 4 arrays.\n",
        "\n",
        "---"
      ]
    },
    {
      "cell_type": "markdown",
      "metadata": {
        "id": "LGIhrK8hVgjh",
        "colab_type": "text"
      },
      "source": [
        "4. **(20pts)** Given any random matrices, compute the element-wise multiplication using a naive Python implementation and Numpy built-in function respectively. Compare the wall-clock times of these implementations as the size of matrices increases.\n"
      ]
    },
    {
      "cell_type": "code",
      "metadata": {
        "id": "Sf28JQnPi0yt",
        "colab_type": "code",
        "outputId": "ba2b55e1-d678-49f8-d7ca-26407639510c",
        "colab": {
          "base_uri": "https://localhost:8080/",
          "height": 377
        }
      },
      "source": [
        "# Making random matrice with size (10,10)\n",
        "# I set the size arbitrarily\n",
        "# dd\n",
        "\n",
        "from time import process_time\n",
        "\n",
        "x = np.random.randint(0, 10, size = (10, 10))\n",
        "y = np.random.randint(0, 10, size = (10, 10))\n",
        "\n",
        "print(\"x:\",x)\n",
        "print(\"y:\",y)"
      ],
      "execution_count": 0,
      "outputs": [
        {
          "output_type": "stream",
          "text": [
            "x: [[7 1 5 1 0 7 4 7 3 1]\n",
            " [2 5 6 6 0 8 4 7 7 5]\n",
            " [0 7 7 4 0 2 9 1 1 8]\n",
            " [1 1 3 8 4 1 0 3 8 1]\n",
            " [5 6 2 0 7 2 0 3 0 6]\n",
            " [7 8 7 9 6 4 6 6 7 4]\n",
            " [8 3 1 0 0 0 6 2 6 7]\n",
            " [9 0 4 5 8 0 9 3 9 4]\n",
            " [7 1 8 2 6 4 9 4 9 3]\n",
            " [5 6 0 5 9 8 4 5 5 5]]\n",
            "y: [[6 9 9 9 1 4 7 2 5 7]\n",
            " [7 4 7 0 8 1 6 3 8 1]\n",
            " [8 1 3 3 7 8 8 1 6 0]\n",
            " [3 7 7 7 3 9 9 5 8 9]\n",
            " [2 5 0 0 4 4 3 6 1 9]\n",
            " [4 7 1 1 6 5 7 3 4 1]\n",
            " [5 9 2 5 8 9 2 7 9 3]\n",
            " [3 4 5 1 2 5 8 8 7 0]\n",
            " [9 5 8 2 3 8 5 2 3 6]\n",
            " [7 5 9 6 7 4 7 6 7 2]]\n"
          ],
          "name": "stdout"
        }
      ]
    },
    {
      "cell_type": "code",
      "metadata": {
        "id": "iiYXCCGQqW2x",
        "colab_type": "code",
        "outputId": "a7875daf-4735-4f65-dff9-4a3fe5b5b0e9",
        "colab": {
          "base_uri": "https://localhost:8080/",
          "height": 215
        }
      },
      "source": [
        "# Numpy built-in function\n",
        "t = process_time()\n",
        "\n",
        "print(\"x * y:\", x * y)\n",
        "\n",
        "elapsed_time1 = process_time() - t\n",
        "print(\"elapsed time:\",elapsed_time1)"
      ],
      "execution_count": 0,
      "outputs": [
        {
          "output_type": "stream",
          "text": [
            "x * y: [[42  9 45  9  0 28 28 14 15  7]\n",
            " [14 20 42  0  0  8 24 21 56  5]\n",
            " [ 0  7 21 12  0 16 72  1  6  0]\n",
            " [ 3  7 21 56 12  9  0 15 64  9]\n",
            " [10 30  0  0 28  8  0 18  0 54]\n",
            " [28 56  7  9 36 20 42 18 28  4]\n",
            " [40 27  2  0  0  0 12 14 54 21]\n",
            " [27  0 20  5 16  0 72 24 63  0]\n",
            " [63  5 64  4 18 32 45  8 27 18]\n",
            " [35 30  0 30 63 32 28 30 35 10]]\n",
            "elapsed time: 0.0016836019999999507\n"
          ],
          "name": "stdout"
        }
      ]
    },
    {
      "cell_type": "code",
      "metadata": {
        "id": "fanQ9QfHuvlW",
        "colab_type": "code",
        "outputId": "ae035a07-b97a-445f-b507-0d781ebb6ae6",
        "colab": {
          "base_uri": "https://localhost:8080/",
          "height": 215
        }
      },
      "source": [
        "# Naive Python implementation\n",
        "t = process_time()\n",
        "\n",
        "multi = np.zeros((10,10))\n",
        "\n",
        "for i in range(len(x)):\n",
        "  for j in range(len(x[0])):\n",
        "    multi[i][j] = x[i][j] * y[i][j]\n",
        "\n",
        "print(\"x * y:\",multi)\n",
        "\n",
        "elapsed_time2 = process_time() - t\n",
        "print(\"elapsed time:\",elapsed_time2)"
      ],
      "execution_count": 0,
      "outputs": [
        {
          "output_type": "stream",
          "text": [
            "x * y: [[42.  9. 45.  9.  0. 28. 28. 14. 15.  7.]\n",
            " [14. 20. 42.  0.  0.  8. 24. 21. 56.  5.]\n",
            " [ 0.  7. 21. 12.  0. 16. 72.  1.  6.  0.]\n",
            " [ 3.  7. 21. 56. 12.  9.  0. 15. 64.  9.]\n",
            " [10. 30.  0.  0. 28.  8.  0. 18.  0. 54.]\n",
            " [28. 56.  7.  9. 36. 20. 42. 18. 28.  4.]\n",
            " [40. 27.  2.  0.  0.  0. 12. 14. 54. 21.]\n",
            " [27.  0. 20.  5. 16.  0. 72. 24. 63.  0.]\n",
            " [63.  5. 64.  4. 18. 32. 45.  8. 27. 18.]\n",
            " [35. 30.  0. 30. 63. 32. 28. 30. 35. 10.]]\n",
            "elapsed time: 0.003810073000000358\n"
          ],
          "name": "stdout"
        }
      ]
    },
    {
      "cell_type": "code",
      "metadata": {
        "id": "zEs45RwE1KzZ",
        "colab_type": "code",
        "outputId": "f880afd3-53f6-41db-863b-37e4c865f4d3",
        "colab": {
          "base_uri": "https://localhost:8080/",
          "height": 35
        }
      },
      "source": [
        "print(\"The difference of process time between numpy function and naive python is\",elapsed_time1 - elapsed_time2)"
      ],
      "execution_count": 0,
      "outputs": [
        {
          "output_type": "stream",
          "text": [
            "The difference of process time between numpy function and naive python is -0.0021264710000004072\n"
          ],
          "name": "stdout"
        }
      ]
    },
    {
      "cell_type": "markdown",
      "metadata": {
        "id": "5beOAT-s1jb8",
        "colab_type": "text"
      },
      "source": [
        "When I made only 10 by 10 matrix to multiply it takes time of 0.0016836019999999507, 0.003810073000000358 respectively. Its diffence was 0.0021264710000004072.\n",
        "\n",
        "\n",
        "When I made only 100 by 100 matrix to multiply it takes time of 0.0026650070000000525, 0.019183219000000307 respectively. Its difference was 0.016518212000000254.\n",
        "\n",
        "I found that to compute element-wise multiplication it is better to use Numpy built-in function than naive Python implemention. It is more faster and simpler, and the efficiency was noticeable when the size became bigger. I think that if we don't have to compare a large size of dataset, it maybe not bad to use naive Python."
      ]
    }
  ]
}